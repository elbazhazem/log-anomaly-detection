{
 "cells": [
  {
   "cell_type": "markdown",
   "id": "2ecf3fb8",
   "metadata": {},
   "source": [
    "## Step 1: Load Libraries and Dataset"
   ]
  },
  {
   "cell_type": "code",
   "execution_count": null,
   "id": "002b055e",
   "metadata": {},
   "outputs": [],
   "source": [
    "import pandas as pd\n",
    "import numpy as np\n",
    "import matplotlib.pyplot as plt\n",
    "import seaborn as sns\n",
    "from sklearn.preprocessing import LabelEncoder, StandardScaler\n",
    "from sklearn.cluster import KMeans, DBSCAN\n",
    "from sklearn.ensemble import RandomForestClassifier\n",
    "from sklearn.metrics import classification_report, confusion_matrix, roc_auc_score, accuracy_score\n",
    "from sklearn.model_selection import train_test_split\n",
    "\n",
    "# Load the dataset\n",
    "df = pd.read_csv(\"log_sample.csv\")\n",
    "df.head()\n"
   ]
  },
  {
   "cell_type": "markdown",
   "id": "394c784c",
   "metadata": {},
   "source": [
    "## Step 2: Data Preprocessing"
   ]
  },
  {
   "cell_type": "code",
   "execution_count": null,
   "id": "87c2a9e2",
   "metadata": {},
   "outputs": [],
   "source": [
    "# Encode categorical features\n",
    "df_encoded = df.copy()\n",
    "le = LabelEncoder()\n",
    "df_encoded['protocol'] = le.fit_transform(df_encoded['protocol'])\n",
    "df_encoded['flags'] = le.fit_transform(df_encoded['flags'])\n",
    "df_encoded['label'] = df_encoded['label'].map({'benign': 0, 'DoS': 1})\n",
    "\n",
    "# Drop timestamp and IPs (not useful in clustering/classification for now)\n",
    "df_encoded = df_encoded.drop(columns=[\"timestamp\", \"src_ip\", \"dst_ip\"])\n",
    "df_encoded.head()\n"
   ]
  },
  {
   "cell_type": "markdown",
   "id": "6884dca8",
   "metadata": {},
   "source": [
    "## Step 3: Clustering with K-Means"
   ]
  },
  {
   "cell_type": "code",
   "execution_count": null,
   "id": "a5c45415",
   "metadata": {},
   "outputs": [],
   "source": [
    "scaler = StandardScaler()\n",
    "X_scaled = scaler.fit_transform(df_encoded.drop(columns=[\"label\"]))\n",
    "\n",
    "kmeans = KMeans(n_clusters=2, random_state=42)\n",
    "df_encoded[\"cluster_kmeans\"] = kmeans.fit_predict(X_scaled)\n",
    "\n",
    "# Compare with actual labels\n",
    "pd.crosstab(df_encoded['label'], df_encoded['cluster_kmeans'], rownames=['Actual'], colnames=['Cluster'])\n"
   ]
  },
  {
   "cell_type": "markdown",
   "id": "f0e4b474",
   "metadata": {},
   "source": [
    "## Step 4: Classification with Random Forest"
   ]
  },
  {
   "cell_type": "code",
   "execution_count": null,
   "id": "7bb4e14a",
   "metadata": {},
   "outputs": [],
   "source": [
    "X = df_encoded.drop(columns=[\"label\", \"cluster_kmeans\"])\n",
    "y = df_encoded[\"label\"]\n",
    "\n",
    "X_train, X_test, y_train, y_test = train_test_split(X, y, test_size=0.3, random_state=42)\n",
    "\n",
    "clf = RandomForestClassifier(n_estimators=100, random_state=42)\n",
    "clf.fit(X_train, y_train)\n",
    "y_pred = clf.predict(X_test)\n",
    "\n",
    "print(\"Confusion Matrix:\\n\", confusion_matrix(y_test, y_pred))\n",
    "print(\"\\nClassification Report:\\n\", classification_report(y_test, y_pred))\n",
    "print(\"ROC AUC Score:\", roc_auc_score(y_test, clf.predict_proba(X_test)[:,1]))\n"
   ]
  },
  {
   "cell_type": "markdown",
   "id": "01830157-83ac-4100-815b-a82b6879f1ba",
   "metadata": {},
   "source": [
    "## Step 5: Evaluation ROC Curve, Confusion Matrix, Metrics Summary"
   ]
  },
  {
   "cell_type": "code",
   "execution_count": null,
   "id": "c7b67d72-5263-4d55-a08a-0ffabc518976",
   "metadata": {},
   "outputs": [],
   "source": [
    "# 📊 Evaluation: ROC Curve, Confusion Matrix, Metrics Summary\n",
    "from sklearn.metrics import roc_curve, auc, ConfusionMatrixDisplay\n",
    "\n",
    "# ROC Curve\n",
    "y_prob = clf.predict_proba(X_test)[:, 1]\n",
    "fpr, tpr, _ = roc_curve(y_test, y_prob)\n",
    "roc_auc = auc(fpr, tpr)\n",
    "\n",
    "plt.figure(figsize=(8, 5))\n",
    "plt.plot(fpr, tpr, color='darkorange', lw=2, label=f'ROC curve (AUC = {roc_auc:.2f})')\n",
    "plt.plot([0, 1], [0, 1], color='navy', lw=2, linestyle='--')\n",
    "plt.xlabel(\"False Positive Rate\")\n",
    "plt.ylabel(\"True Positive Rate\")\n",
    "plt.title(\"ROC Curve\")\n",
    "plt.legend(loc=\"lower right\")\n",
    "plt.grid(True)\n",
    "plt.show()\n",
    "\n",
    "# Confusion Matrix\n",
    "ConfusionMatrixDisplay.from_estimator(clf, X_test, y_test, cmap='Blues', values_format='d')\n",
    "plt.title(\"Confusion Matrix\")\n",
    "plt.show()\n"
   ]
  },
  {
   "cell_type": "markdown",
   "id": "487e2e23-a4a8-42aa-8d18-d6f245793564",
   "metadata": {},
   "source": [
    "## 📊 Pipeline Diagram: Visual Overview"
   ]
  },
  {
   "cell_type": "code",
   "execution_count": null,
   "id": "09df1ce5-65b8-4982-88e2-89b1474ed84c",
   "metadata": {},
   "outputs": [],
   "source": [
    "# 📊 Pipeline Diagram: Visual Overview\n",
    "import matplotlib.pyplot as plt\n",
    "import matplotlib.patches as mpatches\n",
    "\n",
    "fig, ax = plt.subplots(figsize=(10, 6))\n",
    "ax.axis('off')\n",
    "\n",
    "# Define steps and coordinates\n",
    "steps = [\n",
    "    (\"Raw Logs\\n(CSV)\", (0.1, 0.5)),\n",
    "    (\"Preprocessing\\n+ Feature Selection\", (0.3, 0.5)),\n",
    "    (\"Clustering\\n(K-Means / DBSCAN)\", (0.5, 0.7)),\n",
    "    (\"Classification\\n(Random Forest)\", (0.5, 0.3)),\n",
    "    (\"Evaluation\\n(ROC, F1, Accuracy)\", (0.7, 0.5)),\n",
    "]\n",
    "\n",
    "# Draw boxes\n",
    "for text, (x, y) in steps:\n",
    "    ax.add_patch(mpatches.FancyBboxPatch((x, y), 0.18, 0.15,\n",
    "                                         boxstyle=\"round,pad=0.02\",\n",
    "                                         fc=\"skyblue\", ec=\"black\", lw=1.5))\n",
    "    ax.text(x + 0.09, y + 0.075, text, ha='center', va='center', fontsize=10)\n",
    "\n",
    "# Arrows between steps\n",
    "arrows = [\n",
    "    ((0.28, 0.575), (0.3, 0.575)),\n",
    "    ((0.3, 0.575), (0.48, 0.725)),\n",
    "    ((0.3, 0.575), (0.48, 0.325)),\n",
    "    ((0.5, 0.725), (0.68, 0.575)),\n",
    "    ((0.5, 0.325), (0.68, 0.575)),\n",
    "]\n",
    "\n",
    "arrow_style = dict(arrowstyle=\"->\", lw=1.5, color=\"black\")\n",
    "for start, end in arrows:\n",
    "    ax.annotate(\"\", xy=end, xytext=start, arrowprops=arrow_style)\n",
    "\n",
    "plt.title(\"Log-Based DoS Detection Pipeline\", fontsize=14)\n",
    "plt.show()\n"
   ]
  }
 ],
 "metadata": {
  "kernelspec": {
   "display_name": "Python 3 (ipykernel)",
   "language": "python",
   "name": "python3"
  },
  "language_info": {
   "codemirror_mode": {
    "name": "ipython",
    "version": 3
   },
   "file_extension": ".py",
   "mimetype": "text/x-python",
   "name": "python",
   "nbconvert_exporter": "python",
   "pygments_lexer": "ipython3",
   "version": "3.13.3"
  }
 },
 "nbformat": 4,
 "nbformat_minor": 5
}
