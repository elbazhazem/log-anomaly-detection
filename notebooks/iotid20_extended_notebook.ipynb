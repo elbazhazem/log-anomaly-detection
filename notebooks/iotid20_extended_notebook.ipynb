{
 "cells": [
  {
   "cell_type": "markdown",
   "id": "e6c4b937",
   "metadata": {},
   "source": [
    "# 📥 Step 1: Import Libraries & Load Dataset"
   ]
  },
  {
   "cell_type": "code",
   "execution_count": null,
   "id": "6b3b12a3",
   "metadata": {},
   "outputs": [],
   "source": [
    "import pandas as pd\n",
    "import numpy as np\n",
    "import matplotlib.pyplot as plt\n",
    "import seaborn as sns\n",
    "from sklearn.preprocessing import LabelEncoder, StandardScaler\n",
    "from sklearn.model_selection import train_test_split, cross_val_score\n",
    "from sklearn.ensemble import RandomForestClassifier\n",
    "from sklearn.metrics import classification_report, confusion_matrix, roc_auc_score, roc_curve, ConfusionMatrixDisplay\n",
    "from sklearn.feature_selection import SelectKBest, f_classif\n",
    "from xgboost import XGBClassifier\n",
    "from imblearn.over_sampling import SMOTE\n",
    "import warnings\n",
    "warnings.filterwarnings('ignore')\n",
    "\n",
    "# Load dataset\n",
    "df = pd.read_csv(\"data/IoTID20.csv\")  # Update with correct filename\n",
    "df.head()\n"
   ]
  },
  {
   "cell_type": "markdown",
   "id": "5d525e77",
   "metadata": {},
   "source": [
    "## 🔍 Step 2: Data Inspection & Preprocessing"
   ]
  },
  {
   "cell_type": "code",
   "execution_count": null,
   "id": "6db1427f",
   "metadata": {},
   "outputs": [],
   "source": [
    "df.info()\n",
    "df.isnull().sum()\n",
    "df.describe()\n"
   ]
  },
  {
   "cell_type": "markdown",
   "id": "f71b1f45",
   "metadata": {},
   "source": [
    "## ⚙️ Step 3: Encoding & Feature Preparation"
   ]
  },
  {
   "cell_type": "code",
   "execution_count": null,
   "id": "808b6557",
   "metadata": {},
   "outputs": [],
   "source": [
    "df = df.dropna()\n",
    "le = LabelEncoder()\n",
    "df['Label'] = le.fit_transform(df['Label'])\n",
    "\n",
    "for col in df.select_dtypes(include='object').columns:\n",
    "    if col != 'Label':\n",
    "        df[col] = le.fit_transform(df[col])\n",
    "\n",
    "X = df.drop(columns=[\"Label\"])\n",
    "y = df[\"Label\"]\n"
   ]
  },
  {
   "cell_type": "markdown",
   "id": "bdb396d9",
   "metadata": {},
   "source": [
    "## 📊 Step 4: Feature Selection"
   ]
  },
  {
   "cell_type": "code",
   "execution_count": null,
   "id": "495a3eda",
   "metadata": {},
   "outputs": [],
   "source": [
    "selector = SelectKBest(score_func=f_classif, k=15)\n",
    "X_selected = selector.fit_transform(X, y)\n",
    "selected_features = X.columns[selector.get_support()]\n",
    "print(\"Selected Features:\", selected_features.tolist())\n"
   ]
  },
  {
   "cell_type": "markdown",
   "id": "486e5004",
   "metadata": {},
   "source": [
    "## 🔁 Step 5: Balance Dataset with SMOTE"
   ]
  },
  {
   "cell_type": "code",
   "execution_count": null,
   "id": "af23060d",
   "metadata": {},
   "outputs": [],
   "source": [
    "smote = SMOTE(random_state=42)\n",
    "X_resampled, y_resampled = smote.fit_resample(X[selected_features], y)\n",
    "\n",
    "X_train, X_test, y_train, y_test = train_test_split(X_resampled, y_resampled, test_size=0.3, random_state=42)\n"
   ]
  },
  {
   "cell_type": "markdown",
   "id": "7f3566f6",
   "metadata": {},
   "source": [
    "## 🤖 Step 6: Train & Evaluate XGBoost Classifier"
   ]
  },
  {
   "cell_type": "code",
   "execution_count": null,
   "id": "46813422",
   "metadata": {},
   "outputs": [],
   "source": [
    "model = XGBClassifier(n_estimators=100, learning_rate=0.1, random_state=42)\n",
    "model.fit(X_train, y_train)\n",
    "y_pred = model.predict(X_test)\n",
    "\n",
    "print(\"Classification Report:\\n\", classification_report(y_test, y_pred))\n",
    "print(\"ROC AUC Score:\", roc_auc_score(y_test, model.predict_proba(X_test)[:, 1]))\n"
   ]
  },
  {
   "cell_type": "markdown",
   "id": "056e17d1",
   "metadata": {},
   "source": [
    "## 📈 Step 7: Visualize ROC Curve & Confusion Matrix"
   ]
  },
  {
   "cell_type": "code",
   "execution_count": null,
   "id": "6d5f55c2",
   "metadata": {},
   "outputs": [],
   "source": [
    "y_prob = model.predict_proba(X_test)[:, 1]\n",
    "fpr, tpr, _ = roc_curve(y_test, y_prob)\n",
    "\n",
    "plt.figure(figsize=(8, 5))\n",
    "plt.plot(fpr, tpr, label=f'ROC Curve (AUC = {roc_auc_score(y_test, y_prob):.2f})')\n",
    "plt.plot([0, 1], [0, 1], 'k--')\n",
    "plt.xlabel(\"False Positive Rate\")\n",
    "plt.ylabel(\"True Positive Rate\")\n",
    "plt.title(\"ROC Curve\")\n",
    "plt.legend()\n",
    "plt.grid(True)\n",
    "plt.show()\n",
    "\n",
    "ConfusionMatrixDisplay.from_estimator(model, X_test, y_test, cmap='Blues').plot()\n",
    "plt.title(\"Confusion Matrix\")\n",
    "plt.grid(False)\n",
    "plt.show()\n"
   ]
  }
 ],
 "metadata": {},
 "nbformat": 4,
 "nbformat_minor": 5
}
