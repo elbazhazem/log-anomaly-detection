{
 "cells": [
  {
   "cell_type": "markdown",
   "id": "2ecf3fb8",
   "metadata": {},
   "source": [
    "## Step 1: Load Libraries and Dataset"
   ]
  },
  {
   "cell_type": "code",
   "execution_count": null,
   "id": "002b055e",
   "metadata": {},
   "outputs": [],
   "source": [
    "import pandas as pd\n",
    "import numpy as np\n",
    "import matplotlib.pyplot as plt\n",
    "import seaborn as sns\n",
    "from sklearn.preprocessing import LabelEncoder, StandardScaler\n",
    "from sklearn.cluster import KMeans, DBSCAN\n",
    "from sklearn.ensemble import RandomForestClassifier\n",
    "from sklearn.metrics import classification_report, confusion_matrix, roc_auc_score, accuracy_score\n",
    "from sklearn.model_selection import train_test_split\n",
    "\n",
    "# Load the dataset\n",
    "df = pd.read_csv(\"log_sample.csv\")\n",
    "df.head()\n"
   ]
  },
  {
   "cell_type": "markdown",
   "id": "394c784c",
   "metadata": {},
   "source": [
    "## Step 2: Data Preprocessing"
   ]
  },
  {
   "cell_type": "code",
   "execution_count": null,
   "id": "87c2a9e2",
   "metadata": {},
   "outputs": [],
   "source": [
    "# Encode categorical features\n",
    "df_encoded = df.copy()\n",
    "le = LabelEncoder()\n",
    "df_encoded['protocol'] = le.fit_transform(df_encoded['protocol'])\n",
    "df_encoded['flags'] = le.fit_transform(df_encoded['flags'])\n",
    "df_encoded['label'] = df_encoded['label'].map({'benign': 0, 'DoS': 1})\n",
    "\n",
    "# Drop timestamp and IPs (not useful in clustering/classification for now)\n",
    "df_encoded = df_encoded.drop(columns=[\"timestamp\", \"src_ip\", \"dst_ip\"])\n",
    "df_encoded.head()\n"
   ]
  },
  {
   "cell_type": "markdown",
   "id": "6884dca8",
   "metadata": {},
   "source": [
    "## Step 3: Clustering with K-Means"
   ]
  },
  {
   "cell_type": "code",
   "execution_count": null,
   "id": "a5c45415",
   "metadata": {},
   "outputs": [],
   "source": [
    "scaler = StandardScaler()\n",
    "X_scaled = scaler.fit_transform(df_encoded.drop(columns=[\"label\"]))\n",
    "\n",
    "kmeans = KMeans(n_clusters=2, random_state=42)\n",
    "df_encoded[\"cluster_kmeans\"] = kmeans.fit_predict(X_scaled)\n",
    "\n",
    "# Compare with actual labels\n",
    "pd.crosstab(df_encoded['label'], df_encoded['cluster_kmeans'], rownames=['Actual'], colnames=['Cluster'])\n"
   ]
  },
  {
   "cell_type": "markdown",
   "id": "f0e4b474",
   "metadata": {},
   "source": [
    "## Step 4: Classification with Random Forest"
   ]
  },
  {
   "cell_type": "code",
   "execution_count": null,
   "id": "7bb4e14a",
   "metadata": {},
   "outputs": [],
   "source": [
    "X = df_encoded.drop(columns=[\"label\", \"cluster_kmeans\"])\n",
    "y = df_encoded[\"label\"]\n",
    "\n",
    "X_train, X_test, y_train, y_test = train_test_split(X, y, test_size=0.3, random_state=42)\n",
    "\n",
    "clf = RandomForestClassifier(n_estimators=100, random_state=42)\n",
    "clf.fit(X_train, y_train)\n",
    "y_pred = clf.predict(X_test)\n",
    "\n",
    "print(\"Confusion Matrix:\\n\", confusion_matrix(y_test, y_pred))\n",
    "print(\"\\nClassification Report:\\n\", classification_report(y_test, y_pred))\n",
    "print(\"ROC AUC Score:\", roc_auc_score(y_test, clf.predict_proba(X_test)[:,1]))\n"
   ]
  }
 ],
 "metadata": {},
 "nbformat": 4,
 "nbformat_minor": 5
}
